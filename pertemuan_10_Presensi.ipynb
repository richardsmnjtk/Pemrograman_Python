{
  "nbformat": 4,
  "nbformat_minor": 0,
  "metadata": {
    "kernelspec": {
      "name": "python3",
      "display_name": "Python 3"
    },
    "language_info": {
      "codemirror_mode": {
        "name": "ipython",
        "version": 3
      },
      "file_extension": ".py",
      "mimetype": "text/x-python",
      "name": "python",
      "nbconvert_exporter": "python",
      "pygments_lexer": "ipython3",
      "version": "3.7.4"
    },
    "colab": {
      "name": "pertemuan 10_Presensi.ipynb",
      "provenance": [],
      "collapsed_sections": [],
      "include_colab_link": true
    },
    "accelerator": "GPU"
  },
  "cells": [
    {
      "cell_type": "markdown",
      "metadata": {
        "id": "view-in-github",
        "colab_type": "text"
      },
      "source": [
        "<a href=\"https://colab.research.google.com/github/richardsmnjtk/Pemrograman_Python/blob/main/pertemuan_10_Presensi.ipynb\" target=\"_parent\"><img src=\"https://colab.research.google.com/assets/colab-badge.svg\" alt=\"Open In Colab\"/></a>"
      ]
    },
    {
      "cell_type": "code",
      "metadata": {
        "colab": {
          "base_uri": "https://localhost:8080/"
        },
        "id": "xyiyd0kMooXM",
        "outputId": "c3ac6bbf-1139-4fcf-800e-20c730259c54"
      },
      "source": [
        "from google.colab import drive\n",
        "drive.mount('/content/drive')"
      ],
      "execution_count": 2,
      "outputs": [
        {
          "output_type": "stream",
          "text": [
            "Mounted at /content/drive\n"
          ],
          "name": "stdout"
        }
      ]
    },
    {
      "cell_type": "code",
      "metadata": {
        "id": "H215ikbNVVZS",
        "colab": {
          "base_uri": "https://localhost:8080/"
        },
        "outputId": "fc055bfc-8577-4faa-ad8c-ed4ff4cd2f85"
      },
      "source": [
        "cd /content/drive/MyDrive/Colab Notebooks"
      ],
      "execution_count": 7,
      "outputs": [
        {
          "output_type": "stream",
          "text": [
            "/content/drive/MyDrive/Colab Notebooks\n"
          ],
          "name": "stdout"
        }
      ]
    },
    {
      "cell_type": "code",
      "metadata": {
        "id": "z7VB1d4wVdov",
        "colab": {
          "base_uri": "https://localhost:8080/"
        },
        "outputId": "1095a548-735e-4156-bd0b-ed8744614ff4"
      },
      "source": [
        "ls"
      ],
      "execution_count": 11,
      "outputs": [
        {
          "output_type": "stream",
          "text": [
            " \u001b[0m\u001b[01;34m3scene\u001b[0m/                                                      Untitled0.ipynb\n",
            " test.ipynb                                                   Untitled1.ipynb\n",
            "'Tugas sko _Richard Bina Jadi Simanjuntak_1101184245.ipynb'   Untitled2.ipynb\n",
            " Untitled\n"
          ],
          "name": "stdout"
        }
      ]
    },
    {
      "cell_type": "code",
      "metadata": {
        "id": "5IGm26ZzVGBs"
      },
      "source": [
        "# import the necessary packages\n",
        "from keras.models import Sequential\n",
        "from keras.layers.core import Activation\n",
        "from keras.layers.core import Flatten\n",
        "from keras.layers.core import Dense\n",
        "from keras.optimizers import Adam\n",
        "from sklearn.preprocessing import LabelBinarizer\n",
        "from sklearn.model_selection import train_test_split\n",
        "from sklearn.metrics import classification_report\n",
        "from PIL import Image\n",
        "from imutils import paths\n",
        "import numpy as np\n",
        "import os"
      ],
      "execution_count": 12,
      "outputs": []
    },
    {
      "cell_type": "code",
      "metadata": {
        "id": "0-5PXYTsVGBw",
        "colab": {
          "base_uri": "https://localhost:8080/"
        },
        "outputId": "10685c2d-ba95-4a09-d134-444489f60fe8"
      },
      "source": [
        "# grab all image paths in the input dataset directory, then initialize\n",
        "# our list of images and corresponding class labels\n",
        "print(\"[INFO] loading images...\")\n",
        "imagePaths = paths.list_images(\"3scene\")\n",
        "data = []\n",
        "labels = []"
      ],
      "execution_count": 13,
      "outputs": [
        {
          "output_type": "stream",
          "text": [
            "[INFO] loading images...\n"
          ],
          "name": "stdout"
        }
      ]
    },
    {
      "cell_type": "code",
      "metadata": {
        "id": "9Q-KXSsGVGB0"
      },
      "source": [
        "# loop over our input images\n",
        "for imagePath in imagePaths:\n",
        "\t# load the input image from disk, resize it to 64x64 pixels, scale\n",
        "\t# the pixel intensities to the range [0, 1], and then update our\n",
        "\t# images list\n",
        "\timage = Image.open(imagePath)\n",
        "\timage = np.array(image.resize((64, 64))) / 255.0 #normalisasi\n",
        "\tdata.append(image)\n",
        "\n",
        "\t# extract the class label from the file path and update the\n",
        "\t# labels list\n",
        "\tlabel = imagePath.split(os.path.sep)[-2]\n",
        "\tlabels.append(label)"
      ],
      "execution_count": 14,
      "outputs": []
    },
    {
      "cell_type": "code",
      "metadata": {
        "id": "Rzbolh88VGB2",
        "colab": {
          "base_uri": "https://localhost:8080/"
        },
        "outputId": "76f12264-cf2a-4488-e406-db1e402f5c92"
      },
      "source": [
        "print(labels)"
      ],
      "execution_count": 15,
      "outputs": [
        {
          "output_type": "stream",
          "text": [
            "['forest', 'forest', 'forest', 'forest', 'forest', 'forest', 'forest', 'forest', 'forest', 'forest', 'forest', 'forest', 'forest', 'forest', 'forest', 'forest', 'forest', 'forest', 'forest', 'forest', 'forest', 'forest', 'forest', 'forest', 'forest', 'forest', 'forest', 'forest', 'forest', 'forest', 'forest', 'forest', 'forest', 'forest', 'forest', 'forest', 'forest', 'forest', 'forest', 'forest', 'forest', 'forest', 'forest', 'forest', 'forest', 'forest', 'forest', 'forest', 'forest', 'forest', 'forest', 'forest', 'forest', 'forest', 'forest', 'forest', 'forest', 'forest', 'forest', 'forest', 'forest', 'forest', 'forest', 'forest', 'forest', 'forest', 'forest', 'forest', 'forest', 'forest', 'forest', 'forest', 'forest', 'forest', 'forest', 'forest', 'forest', 'forest', 'forest', 'forest', 'forest', 'forest', 'forest', 'forest', 'forest', 'forest', 'forest', 'forest', 'forest', 'forest', 'forest', 'forest', 'forest', 'forest', 'forest', 'forest', 'forest', 'forest', 'forest', 'forest', 'forest', 'forest', 'forest', 'forest', 'forest', 'forest', 'forest', 'forest', 'forest', 'forest', 'forest', 'forest', 'forest', 'forest', 'forest', 'forest', 'forest', 'forest', 'forest', 'forest', 'forest', 'forest', 'forest', 'forest', 'forest', 'forest', 'forest', 'forest', 'forest', 'forest', 'forest', 'forest', 'forest', 'forest', 'forest', 'forest', 'forest', 'forest', 'forest', 'forest', 'forest', 'forest', 'forest', 'forest', 'forest', 'forest', 'forest', 'forest', 'forest', 'forest', 'forest', 'forest', 'forest', 'forest', 'forest', 'forest', 'forest', 'forest', 'forest', 'forest', 'forest', 'forest', 'forest', 'forest', 'forest', 'forest', 'forest', 'forest', 'forest', 'forest', 'forest', 'forest', 'forest', 'forest', 'forest', 'forest', 'forest', 'forest', 'forest', 'forest', 'forest', 'forest', 'forest', 'forest', 'forest', 'forest', 'forest', 'forest', 'forest', 'forest', 'forest', 'forest', 'forest', 'forest', 'forest', 'forest', 'forest', 'forest', 'forest', 'forest', 'forest', 'forest', 'forest', 'forest', 'forest', 'forest', 'forest', 'forest', 'forest', 'forest', 'forest', 'forest', 'forest', 'forest', 'forest', 'forest', 'forest', 'forest', 'forest', 'forest', 'forest', 'forest', 'forest', 'forest', 'forest', 'forest', 'forest', 'forest', 'forest', 'forest', 'forest', 'forest', 'forest', 'forest', 'forest', 'forest', 'forest', 'forest', 'forest', 'forest', 'forest', 'forest', 'forest', 'forest', 'forest', 'forest', 'forest', 'forest', 'forest', 'forest', 'forest', 'forest', 'forest', 'forest', 'forest', 'forest', 'forest', 'forest', 'forest', 'forest', 'forest', 'forest', 'forest', 'forest', 'forest', 'forest', 'forest', 'forest', 'forest', 'forest', 'forest', 'forest', 'forest', 'forest', 'forest', 'forest', 'forest', 'forest', 'forest', 'forest', 'forest', 'forest', 'forest', 'forest', 'forest', 'forest', 'forest', 'forest', 'forest', 'forest', 'forest', 'forest', 'forest', 'forest', 'forest', 'forest', 'forest', 'forest', 'forest', 'forest', 'forest', 'forest', 'forest', 'forest', 'forest', 'forest', 'forest', 'forest', 'forest', 'forest', 'forest', 'forest', 'forest', 'forest', 'forest', 'forest', 'forest', 'forest', 'forest', 'forest', 'forest', 'forest', 'forest', 'forest', 'forest', 'forest', 'forest', 'forest', 'highway', 'highway', 'highway', 'highway', 'highway', 'highway', 'highway', 'highway', 'highway', 'highway', 'highway', 'highway', 'highway', 'highway', 'highway', 'highway', 'highway', 'highway', 'highway', 'highway', 'highway', 'highway', 'highway', 'highway', 'highway', 'highway', 'highway', 'highway', 'highway', 'highway', 'highway', 'highway', 'highway', 'highway', 'highway', 'highway', 'highway', 'highway', 'highway', 'highway', 'highway', 'highway', 'highway', 'highway', 'highway', 'highway', 'highway', 'highway', 'highway', 'highway', 'highway', 'highway', 'highway', 'highway', 'highway', 'highway', 'highway', 'highway', 'highway', 'highway', 'highway', 'highway', 'highway', 'highway', 'highway', 'highway', 'highway', 'highway', 'highway', 'highway', 'highway', 'highway', 'highway', 'highway', 'highway', 'highway', 'highway', 'highway', 'highway', 'highway', 'highway', 'highway', 'highway', 'highway', 'highway', 'highway', 'highway', 'highway', 'highway', 'highway', 'highway', 'highway', 'highway', 'highway', 'highway', 'highway', 'highway', 'highway', 'highway', 'highway', 'highway', 'highway', 'highway', 'highway', 'highway', 'highway', 'highway', 'highway', 'highway', 'highway', 'highway', 'highway', 'highway', 'highway', 'highway', 'highway', 'highway', 'highway', 'highway', 'highway', 'highway', 'highway', 'highway', 'highway', 'highway', 'highway', 'highway', 'highway', 'highway', 'highway', 'highway', 'highway', 'highway', 'highway', 'highway', 'highway', 'highway', 'highway', 'highway', 'highway', 'highway', 'highway', 'highway', 'highway', 'highway', 'highway', 'highway', 'highway', 'highway', 'highway', 'highway', 'highway', 'highway', 'highway', 'highway', 'highway', 'highway', 'highway', 'highway', 'highway', 'highway', 'highway', 'highway', 'highway', 'highway', 'highway', 'highway', 'highway', 'highway', 'highway', 'highway', 'highway', 'highway', 'highway', 'highway', 'highway', 'highway', 'highway', 'highway', 'highway', 'highway', 'highway', 'highway', 'highway', 'highway', 'highway', 'highway', 'highway', 'highway', 'highway', 'highway', 'highway', 'highway', 'highway', 'highway', 'highway', 'highway', 'highway', 'highway', 'highway', 'highway', 'highway', 'highway', 'highway', 'highway', 'highway', 'highway', 'highway', 'highway', 'highway', 'highway', 'highway', 'highway', 'highway', 'highway', 'highway', 'highway', 'highway', 'highway', 'highway', 'highway', 'highway', 'highway', 'highway', 'highway', 'highway', 'highway', 'highway', 'highway', 'highway', 'highway', 'highway', 'highway', 'highway', 'highway', 'highway', 'highway', 'highway', 'highway', 'highway', 'highway', 'highway', 'highway', 'highway', 'highway', 'highway', 'highway', 'highway', 'highway', 'highway', 'highway', 'highway', 'highway', 'highway', 'highway', 'highway', 'highway', 'highway', 'highway', 'highway', 'coast', 'coast', 'coast', 'coast', 'coast', 'coast', 'coast', 'coast', 'coast', 'coast', 'coast', 'coast', 'coast', 'coast', 'coast', 'coast', 'coast', 'coast', 'coast', 'coast', 'coast', 'coast', 'coast', 'coast', 'coast', 'coast', 'coast', 'coast', 'coast', 'coast', 'coast', 'coast', 'coast', 'coast', 'coast', 'coast', 'coast', 'coast', 'coast', 'coast', 'coast', 'coast', 'coast', 'coast', 'coast', 'coast', 'coast', 'coast', 'coast', 'coast', 'coast', 'coast', 'coast', 'coast', 'coast', 'coast', 'coast', 'coast', 'coast', 'coast', 'coast', 'coast', 'coast', 'coast', 'coast', 'coast', 'coast', 'coast', 'coast', 'coast', 'coast', 'coast', 'coast', 'coast', 'coast', 'coast', 'coast', 'coast', 'coast', 'coast', 'coast', 'coast', 'coast', 'coast', 'coast', 'coast', 'coast', 'coast', 'coast', 'coast', 'coast', 'coast', 'coast', 'coast', 'coast', 'coast', 'coast', 'coast', 'coast', 'coast', 'coast', 'coast', 'coast', 'coast', 'coast', 'coast', 'coast', 'coast', 'coast', 'coast', 'coast', 'coast', 'coast', 'coast', 'coast', 'coast', 'coast', 'coast', 'coast', 'coast', 'coast', 'coast', 'coast', 'coast', 'coast', 'coast', 'coast', 'coast', 'coast', 'coast', 'coast', 'coast', 'coast', 'coast', 'coast', 'coast', 'coast', 'coast', 'coast', 'coast', 'coast', 'coast', 'coast', 'coast', 'coast', 'coast', 'coast', 'coast', 'coast', 'coast', 'coast', 'coast', 'coast', 'coast', 'coast', 'coast', 'coast', 'coast', 'coast', 'coast', 'coast', 'coast', 'coast', 'coast', 'coast', 'coast', 'coast', 'coast', 'coast', 'coast', 'coast', 'coast', 'coast', 'coast', 'coast', 'coast', 'coast', 'coast', 'coast', 'coast', 'coast', 'coast', 'coast', 'coast', 'coast', 'coast', 'coast', 'coast', 'coast', 'coast', 'coast', 'coast', 'coast', 'coast', 'coast', 'coast', 'coast', 'coast', 'coast', 'coast', 'coast', 'coast', 'coast', 'coast', 'coast', 'coast', 'coast', 'coast', 'coast', 'coast', 'coast', 'coast', 'coast', 'coast', 'coast', 'coast', 'coast', 'coast', 'coast', 'coast', 'coast', 'coast', 'coast', 'coast', 'coast', 'coast', 'coast', 'coast', 'coast', 'coast', 'coast', 'coast', 'coast', 'coast', 'coast', 'coast', 'coast', 'coast', 'coast', 'coast', 'coast', 'coast', 'coast', 'coast', 'coast', 'coast', 'coast', 'coast', 'coast', 'coast', 'coast', 'coast', 'coast', 'coast', 'coast', 'coast', 'coast', 'coast', 'coast', 'coast', 'coast', 'coast', 'coast', 'coast', 'coast', 'coast', 'coast', 'coast', 'coast', 'coast', 'coast', 'coast', 'coast', 'coast', 'coast', 'coast', 'coast', 'coast', 'coast', 'coast', 'coast', 'coast', 'coast', 'coast', 'coast', 'coast', 'coast', 'coast', 'coast', 'coast', 'coast', 'coast', 'coast', 'coast', 'coast', 'coast', 'coast', 'coast', 'coast', 'coast', 'coast', 'coast', 'coast', 'coast', 'coast', 'coast', 'coast', 'coast', 'coast', 'coast', 'coast', 'coast', 'coast', 'coast', 'coast', 'coast', 'coast', 'coast', 'coast', 'coast', 'coast', 'coast', 'coast', 'coast', 'coast', 'coast', 'coast', 'coast', 'coast', 'coast', 'coast', 'coast', 'coast', 'coast', 'coast', 'coast', 'coast', 'coast', 'coast', 'coast', 'coast', 'coast', 'coast', 'coast', 'coast', 'coast', 'coast', 'coast', 'coast', 'coast', 'coast', 'coast', 'coast', 'coast', 'coast', 'coast', 'coast', 'coast', 'coast', 'coast']\n"
          ],
          "name": "stdout"
        }
      ]
    },
    {
      "cell_type": "code",
      "metadata": {
        "id": "twd1IeuKVGB5"
      },
      "source": [
        "# encode the labels, converting them from strings to integers\n",
        "lb = LabelBinarizer()\n",
        "labels = lb.fit_transform(labels)"
      ],
      "execution_count": 28,
      "outputs": []
    },
    {
      "cell_type": "code",
      "metadata": {
        "id": "5FPCyIqcVGB7",
        "colab": {
          "base_uri": "https://localhost:8080/"
        },
        "outputId": "a056f548-d40b-40e0-a255-e8dd569a7278"
      },
      "source": [
        "print(labels)"
      ],
      "execution_count": 17,
      "outputs": [
        {
          "output_type": "stream",
          "text": [
            "[[0 1 0]\n",
            " [0 1 0]\n",
            " [0 1 0]\n",
            " ...\n",
            " [1 0 0]\n",
            " [1 0 0]\n",
            " [1 0 0]]\n"
          ],
          "name": "stdout"
        }
      ]
    },
    {
      "cell_type": "code",
      "metadata": {
        "id": "ktZ5hNYwVGB9",
        "colab": {
          "base_uri": "https://localhost:8080/"
        },
        "outputId": "5089f0e5-0458-476a-cfaf-51514e6b2b34"
      },
      "source": [
        "# perform a training and testing split, using 75% of the data for\n",
        "# training and 25% for evaluation\n",
        "(trainX, testX, trainY, testY) = train_test_split(np.array(data),\tnp.array(labels), test_size=0.25, shuffle=True)\n",
        "print(trainX.shape)\n",
        "print(testX.shape)"
      ],
      "execution_count": 18,
      "outputs": [
        {
          "output_type": "stream",
          "text": [
            "(711, 64, 64, 3)\n",
            "(237, 64, 64, 3)\n"
          ],
          "name": "stdout"
        }
      ]
    },
    {
      "cell_type": "code",
      "metadata": {
        "id": "sny_9-wU8PGB"
      },
      "source": [
        "from keras.models import Sequential\n",
        "from keras.layers.core import Flatten\n",
        "from keras.layers.core import Dense\n",
        "\n",
        "model = Sequential(\n",
        "    [\n",
        "        Flatten(input_shape=(64*64*3,)),\n",
        "        Dense(100, activation=\"relu\", name=\"layer1\"),\n",
        "        Dense(16, activation=\"relu\", name=\"layer2\"),\n",
        "        Dense(16, activation=\"relu\", name=\"layer3\"),\n",
        "        Dense(3, activation = \"softmax\", name=\"layer4\"),\n",
        "    ]\n",
        ")"
      ],
      "execution_count": 19,
      "outputs": []
    },
    {
      "cell_type": "code",
      "metadata": {
        "id": "L0TdWxuFPkT3",
        "colab": {
          "base_uri": "https://localhost:8080/"
        },
        "outputId": "0b6c09fb-c5ba-43f2-9ef1-671c700b27fa"
      },
      "source": [
        "model.summary()"
      ],
      "execution_count": 20,
      "outputs": [
        {
          "output_type": "stream",
          "text": [
            "Model: \"sequential\"\n",
            "_________________________________________________________________\n",
            "Layer (type)                 Output Shape              Param #   \n",
            "=================================================================\n",
            "flatten (Flatten)            (None, 12288)             0         \n",
            "_________________________________________________________________\n",
            "layer1 (Dense)               (None, 100)               1228900   \n",
            "_________________________________________________________________\n",
            "layer2 (Dense)               (None, 16)                1616      \n",
            "_________________________________________________________________\n",
            "layer3 (Dense)               (None, 16)                272       \n",
            "_________________________________________________________________\n",
            "layer4 (Dense)               (None, 3)                 51        \n",
            "=================================================================\n",
            "Total params: 1,230,839\n",
            "Trainable params: 1,230,839\n",
            "Non-trainable params: 0\n",
            "_________________________________________________________________\n"
          ],
          "name": "stdout"
        }
      ]
    },
    {
      "cell_type": "code",
      "metadata": {
        "scrolled": true,
        "id": "ggcSdj_aVGCB",
        "colab": {
          "base_uri": "https://localhost:8080/"
        },
        "outputId": "8a7d98e8-ca02-4ddc-d1fc-a47a8b2a158c"
      },
      "source": [
        "# train the model using the Adam optimizer\n",
        "print(\"[INFO] training network...\")\n",
        "opt = Adam(lr=1e-3, decay=1e-3 / 50)\n",
        "model.compile(loss=\"categorical_crossentropy\", optimizer=opt,\n",
        "\tmetrics=[\"accuracy\"])\n",
        "H = model.fit(trainX, trainY, validation_data=(testX, testY), epochs=25, batch_size=32)"
      ],
      "execution_count": 21,
      "outputs": [
        {
          "output_type": "stream",
          "text": [
            "[INFO] training network...\n",
            "Epoch 1/25\n",
            "WARNING:tensorflow:Model was constructed with shape (None, 12288) for input Tensor(\"flatten_input:0\", shape=(None, 12288), dtype=float32), but it was called on an input with incompatible shape (None, 64, 64, 3).\n",
            "WARNING:tensorflow:Model was constructed with shape (None, 12288) for input Tensor(\"flatten_input:0\", shape=(None, 12288), dtype=float32), but it was called on an input with incompatible shape (None, 64, 64, 3).\n",
            "15/23 [==================>...........] - ETA: 0s - loss: 1.0223 - accuracy: 0.4667WARNING:tensorflow:Model was constructed with shape (None, 12288) for input Tensor(\"flatten_input:0\", shape=(None, 12288), dtype=float32), but it was called on an input with incompatible shape (None, 64, 64, 3).\n",
            "23/23 [==============================] - 0s 11ms/step - loss: 1.0158 - accuracy: 0.4782 - val_loss: 0.9472 - val_accuracy: 0.5359\n",
            "Epoch 2/25\n",
            "23/23 [==============================] - 0s 5ms/step - loss: 0.8449 - accuracy: 0.6104 - val_loss: 0.8208 - val_accuracy: 0.6667\n",
            "Epoch 3/25\n",
            "23/23 [==============================] - 0s 5ms/step - loss: 0.7313 - accuracy: 0.6990 - val_loss: 0.7822 - val_accuracy: 0.6498\n",
            "Epoch 4/25\n",
            "23/23 [==============================] - 0s 5ms/step - loss: 0.6864 - accuracy: 0.6835 - val_loss: 0.8385 - val_accuracy: 0.6245\n",
            "Epoch 5/25\n",
            "23/23 [==============================] - 0s 5ms/step - loss: 0.6125 - accuracy: 0.7286 - val_loss: 0.7560 - val_accuracy: 0.7131\n",
            "Epoch 6/25\n",
            "23/23 [==============================] - 0s 5ms/step - loss: 0.5481 - accuracy: 0.7651 - val_loss: 0.6778 - val_accuracy: 0.7679\n",
            "Epoch 7/25\n",
            "23/23 [==============================] - 0s 5ms/step - loss: 0.6149 - accuracy: 0.7215 - val_loss: 0.7561 - val_accuracy: 0.7173\n",
            "Epoch 8/25\n",
            "23/23 [==============================] - 0s 4ms/step - loss: 0.4934 - accuracy: 0.8059 - val_loss: 0.8791 - val_accuracy: 0.7046\n",
            "Epoch 9/25\n",
            "23/23 [==============================] - 0s 4ms/step - loss: 0.4984 - accuracy: 0.8087 - val_loss: 0.6908 - val_accuracy: 0.7426\n",
            "Epoch 10/25\n",
            "23/23 [==============================] - 0s 4ms/step - loss: 0.4160 - accuracy: 0.8453 - val_loss: 0.7577 - val_accuracy: 0.7300\n",
            "Epoch 11/25\n",
            "23/23 [==============================] - 0s 6ms/step - loss: 0.5281 - accuracy: 0.8129 - val_loss: 0.7954 - val_accuracy: 0.6962\n",
            "Epoch 12/25\n",
            "23/23 [==============================] - 0s 4ms/step - loss: 0.4788 - accuracy: 0.8017 - val_loss: 0.6481 - val_accuracy: 0.7679\n",
            "Epoch 13/25\n",
            "23/23 [==============================] - 0s 4ms/step - loss: 0.4127 - accuracy: 0.8467 - val_loss: 0.7438 - val_accuracy: 0.7342\n",
            "Epoch 14/25\n",
            "23/23 [==============================] - 0s 4ms/step - loss: 0.4274 - accuracy: 0.8312 - val_loss: 0.7169 - val_accuracy: 0.7595\n",
            "Epoch 15/25\n",
            "23/23 [==============================] - 0s 5ms/step - loss: 0.4087 - accuracy: 0.8411 - val_loss: 0.7485 - val_accuracy: 0.7215\n",
            "Epoch 16/25\n",
            "23/23 [==============================] - 0s 5ms/step - loss: 0.3552 - accuracy: 0.8706 - val_loss: 0.7447 - val_accuracy: 0.7468\n",
            "Epoch 17/25\n",
            "23/23 [==============================] - 0s 5ms/step - loss: 0.3540 - accuracy: 0.8720 - val_loss: 0.7380 - val_accuracy: 0.7511\n",
            "Epoch 18/25\n",
            "23/23 [==============================] - 0s 4ms/step - loss: 0.3610 - accuracy: 0.8622 - val_loss: 0.7655 - val_accuracy: 0.7679\n",
            "Epoch 19/25\n",
            "23/23 [==============================] - 0s 5ms/step - loss: 0.3153 - accuracy: 0.8945 - val_loss: 0.7223 - val_accuracy: 0.7679\n",
            "Epoch 20/25\n",
            "23/23 [==============================] - 0s 5ms/step - loss: 0.3101 - accuracy: 0.8945 - val_loss: 0.7664 - val_accuracy: 0.7553\n",
            "Epoch 21/25\n",
            "23/23 [==============================] - 0s 4ms/step - loss: 0.3226 - accuracy: 0.8748 - val_loss: 0.7722 - val_accuracy: 0.7384\n",
            "Epoch 22/25\n",
            "23/23 [==============================] - 0s 4ms/step - loss: 0.3336 - accuracy: 0.8748 - val_loss: 0.8033 - val_accuracy: 0.7342\n",
            "Epoch 23/25\n",
            "23/23 [==============================] - 0s 5ms/step - loss: 0.2927 - accuracy: 0.8945 - val_loss: 0.7923 - val_accuracy: 0.7468\n",
            "Epoch 24/25\n",
            "23/23 [==============================] - 0s 5ms/step - loss: 0.5530 - accuracy: 0.7693 - val_loss: 0.9459 - val_accuracy: 0.7173\n",
            "Epoch 25/25\n",
            "23/23 [==============================] - 0s 4ms/step - loss: 0.4096 - accuracy: 0.8368 - val_loss: 0.8176 - val_accuracy: 0.7300\n"
          ],
          "name": "stdout"
        }
      ]
    },
    {
      "cell_type": "code",
      "metadata": {
        "id": "98_oXi-lcgux",
        "colab": {
          "base_uri": "https://localhost:8080/",
          "height": 590
        },
        "outputId": "c0331748-2993-42c8-dafd-8beab3b25340"
      },
      "source": [
        "import matplotlib.pyplot as plt\n",
        "\n",
        "print(H.history.keys())\n",
        "# summarize history for accuracy\n",
        "plt.plot(H.history['accuracy'])\n",
        "plt.plot(H.history['val_accuracy'])\n",
        "plt.title('model accuracy')\n",
        "plt.ylabel('accuracy')\n",
        "plt.xlabel('epoch')\n",
        "plt.legend(['train', 'test'], loc='upper left')\n",
        "plt.show()\n",
        "# summarize history for loss\n",
        "plt.plot(H.history['loss'])\n",
        "plt.plot(H.history['val_loss'])\n",
        "plt.title('model loss')\n",
        "plt.ylabel('loss')\n",
        "plt.xlabel('epoch')\n",
        "plt.legend(['train', 'test'], loc='upper left')\n",
        "plt.show()"
      ],
      "execution_count": 22,
      "outputs": [
        {
          "output_type": "stream",
          "text": [
            "dict_keys(['loss', 'accuracy', 'val_loss', 'val_accuracy'])\n"
          ],
          "name": "stdout"
        },
        {
          "output_type": "display_data",
          "data": {
            "image/png": "[encoded data removed]",
            "text/plain": [
              "<Figure size 432x288 with 1 Axes>"
            ]
          },
          "metadata": {
            "tags": [],
            "needs_background": "light"
          }
        },
        {
          "output_type": "display_data",
          "data": {
            "image/png": "[encoded data removed]",
            "text/plain": [
              "<Figure size 432x288 with 1 Axes>"
            ]
          },
          "metadata": {
            "tags": [],
            "needs_background": "light"
          }
        }
      ]
    },
    {
      "cell_type": "code",
      "metadata": {
        "id": "lPAZkmBJVGCD",
        "colab": {
          "base_uri": "https://localhost:8080/"
        },
        "outputId": "511203b5-54d7-4940-c66e-e8da33511bd2"
      },
      "source": [
        "# evaluate the network\n",
        "print(\"[INFO] evaluating network...\")\n",
        "predictions = model.predict(testX, batch_size=32)\n",
        "print(classification_report(testY.argmax(axis=1),\n",
        "\tpredictions.argmax(axis=1), target_names=lb.classes_))"
      ],
      "execution_count": 23,
      "outputs": [
        {
          "output_type": "stream",
          "text": [
            "[INFO] evaluating network...\n",
            "WARNING:tensorflow:Model was constructed with shape (None, 12288) for input Tensor(\"flatten_input:0\", shape=(None, 12288), dtype=float32), but it was called on an input with incompatible shape (None, 64, 64, 3).\n",
            "              precision    recall  f1-score   support\n",
            "\n",
            "       coast       0.81      0.75      0.78        92\n",
            "      forest       0.71      0.78      0.75        79\n",
            "     highway       0.65      0.64      0.64        66\n",
            "\n",
            "    accuracy                           0.73       237\n",
            "   macro avg       0.72      0.72      0.72       237\n",
            "weighted avg       0.73      0.73      0.73       237\n",
            "\n"
          ],
          "name": "stdout"
        }
      ]
    },
    {
      "cell_type": "code",
      "metadata": {
        "id": "4uBcj8x8iwTw",
        "colab": {
          "base_uri": "https://localhost:8080/"
        },
        "outputId": "ed513344-d880-452b-af0f-f87743a3aee1"
      },
      "source": [
        "model.save('nnmodel_scene')"
      ],
      "execution_count": 24,
      "outputs": [
        {
          "output_type": "stream",
          "text": [
            "WARNING:tensorflow:From /usr/local/lib/python3.6/dist-packages/tensorflow/python/training/tracking/tracking.py:111: Model.state_updates (from tensorflow.python.keras.engine.training) is deprecated and will be removed in a future version.\n",
            "Instructions for updating:\n",
            "This property should not be used in TensorFlow 2.0, as updates are applied automatically.\n",
            "WARNING:tensorflow:From /usr/local/lib/python3.6/dist-packages/tensorflow/python/training/tracking/tracking.py:111: Layer.updates (from tensorflow.python.keras.engine.base_layer) is deprecated and will be removed in a future version.\n",
            "Instructions for updating:\n",
            "This property should not be used in TensorFlow 2.0, as updates are applied automatically.\n",
            "INFO:tensorflow:Assets written to: nnmodel_scene/assets\n"
          ],
          "name": "stdout"
        }
      ]
    },
    {
      "cell_type": "code",
      "metadata": {
        "id": "AOwJT2jLVGCN"
      },
      "source": [
        "import cv2\n",
        "import matplotlib.pyplot as plt\n",
        "image1='forest_test.jpg'"
      ],
      "execution_count": 37,
      "outputs": []
    },
    {
      "cell_type": "code",
      "metadata": {
        "id": "PkM68K4GVGCP"
      },
      "source": [
        "img_array = cv2.imread(image1)\n",
        "plt.imshow(img_array)\n",
        "plt.show()\n",
        "# print(type(img_array))"
      ],
      "execution_count": null,
      "outputs": []
    },
    {
      "cell_type": "code",
      "metadata": {
        "id": "1ZkNY8LWVGCR",
        "colab": {
          "base_uri": "https://localhost:8080/"
        },
        "outputId": "bf3c8c5e-edb1-4a0d-c6a8-ced21de31294"
      },
      "source": [
        "image_testing = Image.open('forest_test.jpg')\n",
        "image_testing = np.array(image_testing.resize((64, 64))) / 255.0\n",
        "image_testing.shape"
      ],
      "execution_count": null,
      "outputs": [
        {
          "output_type": "execute_result",
          "data": {
            "text/plain": [
              "(64, 64, 3)"
            ]
          },
          "metadata": {
            "tags": []
          },
          "execution_count": 18
        }
      ]
    },
    {
      "cell_type": "code",
      "metadata": {
        "id": "qL66nfOcVGCT",
        "colab": {
          "base_uri": "https://localhost:8080/"
        },
        "outputId": "670b3faa-d7fa-4bc3-f841-ed09a120920f"
      },
      "source": [
        "image_testing = np.expand_dims(image_testing, axis=0)\n",
        "print(image_testing.shape)"
      ],
      "execution_count": null,
      "outputs": [
        {
          "output_type": "stream",
          "text": [
            "(1, 64, 64, 3)\n"
          ],
          "name": "stdout"
        }
      ]
    },
    {
      "cell_type": "code",
      "metadata": {
        "id": "vTy9yP1AVGCV",
        "colab": {
          "base_uri": "https://localhost:8080/"
        },
        "outputId": "e557dae1-6719-4c4d-83ce-8bbd829436d7"
      },
      "source": [
        "output = model.predict(image_testing, 1)\n",
        "print(output)\n",
        "print(lb.classes_[output.argmax(axis=1)])"
      ],
      "execution_count": null,
      "outputs": [
        {
          "output_type": "stream",
          "text": [
            "WARNING:tensorflow:Model was constructed with shape (None, 12288) for input Tensor(\"flatten_input:0\", shape=(None, 12288), dtype=float32), but it was called on an input with incompatible shape (1, 64, 64, 3).\n",
            "[[0.2624806  0.5831592  0.15436009]]\n",
            "['forest']\n"
          ],
          "name": "stdout"
        }
      ]
    },
    {
      "cell_type": "code",
      "metadata": {
        "id": "cu5SSxXyiOs3"
      },
      "source": [
        ""
      ],
      "execution_count": null,
      "outputs": []
    }
  ]
}